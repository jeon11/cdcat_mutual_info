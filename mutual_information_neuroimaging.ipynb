{
 "cells": [
  {
   "cell_type": "markdown",
   "metadata": {},
   "source": [
    "## Entropy in Neuroimaging\n",
    "\n",
    "Entropy has three interpretations (three are identical, but in different expressions & relations): \n",
    "\n",
    "<b>1. Amount of information in an event (N of possible outcomes, or grey value in images)</b>\n",
    "\n",
    "- The larger the number of possible outcomes, the larger the information gain\n",
    "    - Ex. Information gain from a sentence would exponentially increase with length of sentence<br>\n",
    "    - If outcome is 1, information gain is 0 (i.e. log1 = 0)\n",
    "\n",
    "<b>2. Uncertainty of outcome in an event</b>\n",
    "\n",
    "- Amount of information gain with probability is inversely related to the probability that the event will take place. The information per event is weighted by the probability of the event</li>\n",
    "- The rarer an event, the more significance the event has \n",
    "- When all events are likely to occur, uncertainty or entropy is maximum (ie. more possible outcomes)\n",
    "- Most common entropy form is the Shannon's entropy:\n",
    "\\begin{equation*}\n",
    "H = \\sum_{i} p_i log(p_i)\n",
    "\\end{equation*} \n",
    "   \n",
    "> **Entropy Example** <br>\n",
    "    >  In a fair coin toss, entropy is maximum. Vice versa, the more unfair the coint toss is, the more definitive the outcome is (which means lower entropy)<br><br>\n",
    "    >  Fair coin toss: P(head) = 0.5, P(tail) = 0.5<br>\n",
    "    >  Entropy = -0.5log0.5 - 0.5log0.5 = 0.150 + 0.150 = 0.300\n",
    "    >  \n",
    "    >  Unfair coin toss: P(head) = 0.8, P(tail) = 0.2<br>\n",
    "    >  Entropy = -0.8log0.8 - 0.2log0.2 = 0.077 + 0.140 = 0.217\n",
    "    \n",
    "<b>3. Dispersion of probability distribution</b>\n",
    "\n",
    "- Shannon's entropy can be used as a measure of dispersion of a probability distribution. It can be computed on images by looking at their dispersion of grey values\n",
    "- Image with single intensity will have low entropy value as it contains little information. Conversely, if image with varying intesity will have higher entropy value with more information\n",
    "- Ex. image with single sharp peak (ie. grey value condensed in small area) will have low entropy value\n"
   ]
  },
  {
   "cell_type": "markdown",
   "metadata": {},
   "source": [
    "## Mutual Information\n",
    "\n",
    "The goal of registration is to maximize mutual information or the overlaps. There are three ways of interpreting MI, in which they are identical but in different forms of expression and relation of variables. \n",
    "\n",
    "1. **_I(X, Y) = H(Y) - H(Y | X)_**\n",
    "    - This is the most closest form of mutual information. ie. MI of X and Y is subtracting entropy of H(Y) from the conditional entropy H(Y|X) (or p(Y) given p(X): chance of grey value in B given that corresponding image in A has grey value). \n",
    "    \n",
    "    - In expression of uncertainty, MI is the amount by which uncertainty about Y changes when the amount of X containing Y is given\n",
    "<br><br>\n",
    "2. **_I(X, Y) = H(X) + H(Y) - H(X, Y)_**\n",
    "    - It is the most closest form to joint entropy. _H(X | Y)_ tells us that mutual information is greater when the joint entropy is lower. Small entropy or less dispersion would mean that information overlaps more.   \n",
    "<br>\n",
    "3. **_I(X, Y) = Sum of [p(x,y) log (p(x,y) / p(x)p(y))_**]\n",
    "    - This formula is analogous to Kullback-Leibler distance, which measures the distance between two distributions. It measures the dependence of the two images by calculating the distance between the joint distribution of the image's grey values p(x,y) and the joint distribution in case of independence of the two images p(x)p(y)\n",
    "    - We will use this formula to measure MI later in the code"
   ]
  },
  {
   "cell_type": "markdown",
   "metadata": {},
   "source": [
    "## Code Implementation\n",
    "Now let's try using Python to measure mutual information of given images. We will be mainly comparing in two ways: comparing the identical images, and two different images.\n",
    "\n",
    "#### 1. Let's begin with a setup, and direct the image files"
   ]
  },
  {
   "cell_type": "code",
   "execution_count": 1,
   "metadata": {},
   "outputs": [],
   "source": [
    "from __future__ import division\n",
    "import numpy as np\n",
    "import matplotlib.pyplot as plt\n",
    "import os\n",
    "import nibabel as nib\n",
    "\n",
    "# set gray colormap and nearest neighbor interpolation by default\n",
    "plt.rcParams['image.cmap'] = 'gray'\n",
    "plt.rcParams['image.interpolation'] = 'nearest'\n",
    "\n",
    "# set the images\n",
    "os.chdir('/Users/Jin/Documents/MATLAB')\n",
    "\n",
    "img1 = '4_23_Drake.nii'\n",
    "img2 = '4_24_Denzel_Washington.nii'"
   ]
  },
  {
   "cell_type": "markdown",
   "metadata": {},
   "source": [
    "#### 2. Let's slice the image and set side by side to display"
   ]
  },
  {
   "cell_type": "code",
   "execution_count": 2,
   "metadata": {},
   "outputs": [],
   "source": [
    "def get_img_slice(img, size=50):\n",
    "    \"\"\"\n",
    "    load the image using nibabel and slice the image by given size\n",
    "\n",
    "    Parameters\n",
    "    ----------\n",
    "    img: nii image data read via nibabel\n",
    "\n",
    "    \n",
    "    Returns\n",
    "    -------\n",
    "    numpy memmap: ndarray of image slice\n",
    "    \"\"\"\n",
    "    img_data = nib.load(img)\n",
    "    img_data = img_data.get_data()\n",
    "    img_slice = img_data[:, :, size]  # 50 is arbitrary here\n",
    "    # convert any nans to 0s\n",
    "    img_nans = np.isnan(img_slice)\n",
    "    img_slice[img_nans] = 0\n",
    "    return img_slice\n",
    "\n",
    "img1_slice = get_img_slice(img1)\n",
    "img2_slice = get_img_slice(img2)"
   ]
  },
  {
   "cell_type": "code",
   "execution_count": 3,
   "metadata": {},
   "outputs": [
    {
     "data": {
      "image/png": "[encoded data removed]",
      "text/plain": [
       "<Figure size 432x288 with 1 Axes>"
      ]
     },
     "metadata": {
      "needs_background": "light"
     },
     "output_type": "display_data"
    }
   ],
   "source": [
    "# display images left and right\n",
    "def plot_raw(img1, img2):\n",
    "    plt.imshow(np.hstack((img1, img2)))\n",
    "    plt.show()\n",
    "    \n",
    "plot_raw(img1_slice, img1_slice)"
   ]
  },
  {
   "cell_type": "markdown",
   "metadata": {},
   "source": [
    "#### 3. Let's plot a 1d histogram for each of the two iamges"
   ]
  },
  {
   "cell_type": "code",
   "execution_count": 4,
   "metadata": {},
   "outputs": [],
   "source": [
    "def plot_hist1d(img1, img2, bins=20):\n",
    "    \"\"\"\n",
    "    one dimensional histogram of the slices\n",
    "\n",
    "    Parameters\n",
    "    ----------\n",
    "    img1: nii image data read via nibabel\n",
    "\n",
    "    img2: nii image data read via nibabel\n",
    "\n",
    "    bins: optional (default=20)\n",
    "        bin size of the histogram\n",
    "\n",
    "    Returns\n",
    "    -------\n",
    "    histogram\n",
    "        comparing two images side by side\n",
    "    \"\"\"\n",
    "    fig, axes = plt.subplots(1, 2)\n",
    "    axes[0].hist(img1.ravel(), bins)\n",
    "    axes[0].set_title('Img1 histogram')\n",
    "    axes[1].hist(img2.ravel(), bins)\n",
    "    axes[1].set_title('Img2 histogram')\n",
    "    plt.show()"
   ]
  },
  {
   "cell_type": "code",
   "execution_count": 5,
   "metadata": {},
   "outputs": [
    {
     "data": {
      "image/png": "[encoded data removed]",
      "text/plain": [
       "<Figure size 432x288 with 2 Axes>"
      ]
     },
     "metadata": {
      "needs_background": "light"
     },
     "output_type": "display_data"
    }
   ],
   "source": [
    "plot_hist1d(img1_slice, img2_slice)"
   ]
  },
  {
   "cell_type": "markdown",
   "metadata": {},
   "source": [
    "#### 4. Let's plot the two images against each other on a scatter plot, and calculate correlation coefficient"
   ]
  },
  {
   "cell_type": "code",
   "execution_count": 6,
   "metadata": {},
   "outputs": [],
   "source": [
    "def plot_scatter2d(img1, img2):\n",
    "    \"\"\"\n",
    "    plot the two image's histogram against each other\n",
    "\n",
    "    Parameters\n",
    "    ----------\n",
    "    img1: nii image data read via nibabel\n",
    "\n",
    "    img2: nii image data read via nibabel\n",
    "\n",
    "    Returns\n",
    "    -------\n",
    "    2d plotting of the two images and correlation coeeficient\n",
    "    \"\"\"\n",
    "    corr = np.corrcoef(img1.ravel(), img2.ravel())[0, 1]\n",
    "    plt.plot(img1.ravel(), img2.ravel(), '.')\n",
    "    \n",
    "    plt.xlabel('Img1 signal')\n",
    "    plt.ylabel('Img2 signal')\n",
    "    plt.title('Img1 vs Img2 signal cc=' + str(corr))\n",
    "    plt.show()"
   ]
  },
  {
   "cell_type": "code",
   "execution_count": 7,
   "metadata": {},
   "outputs": [
    {
     "data": {
      "image/png": "[encoded data removed]",
      "text/plain": [
       "<Figure size 432x288 with 1 Axes>"
      ]
     },
     "metadata": {
      "needs_background": "light"
     },
     "output_type": "display_data"
    },
    {
     "data": {
      "image/png": "[encoded data removed]",
      "text/plain": [
       "<Figure size 432x288 with 1 Axes>"
      ]
     },
     "metadata": {
      "needs_background": "light"
     },
     "output_type": "display_data"
    }
   ],
   "source": [
    "# this one is comparing two identical images so it should equal 1\n",
    "plot_scatter2d(img1_slice, img1_slice)\n",
    "\n",
    "# image 1 vs image 2\n",
    "plot_scatter2d(img1_slice, img2_slice)"
   ]
  },
  {
   "cell_type": "markdown",
   "metadata": {},
   "source": [
    "### Feature Space\n",
    "\n",
    "Using MI as a registration measure, we plot a **_feature space_** (or **_joint histogram_**), a two-dimensional plot showing the combinations of grey values in each of the two images for all corresponding points. For example, for each corresponding point (x, y), in which x and y are coordinates of first and second images respectively, \n",
    "\n",
    "As the alignment of the two images change, the feature space changes. The more correctly registered the two images are, the more anatomical structures will overlap, showing clusters for the grey values. When the images are misaligned, the intensity of the clusters for certain structures will decrease, and a new pair of (x, y) will be matched as the image gets incorrectly aligned with other nearby structures of the other image. This is be shown as the dispersion of the clustering.\n",
    "\n",
    "#### 5. Let's plot a joint histogram now"
   ]
  },
  {
   "cell_type": "code",
   "execution_count": 8,
   "metadata": {},
   "outputs": [],
   "source": [
    "def plot_joint_histogram(img1, img2, bins=20, log=True):\n",
    "    \"\"\"\n",
    "    plot feature space. Given two images, the feature space is constructed by counting the number of times a combination of grey values occur\n",
    "\n",
    "    Parameters\n",
    "    ----------\n",
    "    img1: nii image data read via nibabel\n",
    "\n",
    "    img2: nii image data read via nibabel\n",
    "\n",
    "    bins: optional (default=20)\n",
    "        bin size of the histogram\n",
    "    log: boolean (default=True)\n",
    "        keeping it true will show a better contrasted image\n",
    "\n",
    "    Returns\n",
    "    -------\n",
    "    joint histogram\n",
    "        feature space of the two images in graph\n",
    "\n",
    "    \"\"\"\n",
    "    hist_2d, x_edges, y_edges = np.histogram2d(img1.ravel(), img2.ravel(), bins)\n",
    "    # transpose to put the T1 bins on the horizontal axis and use 'lower' to put 0, 0 at the bottom of the plot\n",
    "    if not log:\n",
    "        plt.imshow(hist_2d.T, origin='lower')\n",
    "        plt.xlabel('Img1 signal bin')\n",
    "        plt.ylabel('Img2 signal bin')\n",
    "\n",
    "    # log the values to reduce the bins with large values\n",
    "    hist_2d_log = np.zeros(hist_2d.shape)\n",
    "    non_zeros = hist_2d != 0\n",
    "    hist_2d_log[non_zeros] = np.log(hist_2d[non_zeros])\n",
    "    plt.imshow(hist_2d_log.T, origin='lower')\n",
    "    plt.xlabel('Img1 signal bin')\n",
    "    plt.ylabel('Img2 signal bin')"
   ]
  },
  {
   "cell_type": "code",
   "execution_count": 9,
   "metadata": {},
   "outputs": [
    {
     "name": "stdout",
     "output_type": "stream",
     "text": [
      "None\n"
     ]
    },
    {
     "data": {
      "image/png": "[encoded data removed]",
      "text/plain": [
       "<Figure size 432x288 with 1 Axes>"
      ]
     },
     "metadata": {
      "needs_background": "light"
     },
     "output_type": "display_data"
    }
   ],
   "source": [
    "# this should print a linear graph as it's comparing it to itself\n",
    "print(plot_joint_histogram(img1_slice, img1_slice))"
   ]
  },
  {
   "cell_type": "code",
   "execution_count": 10,
   "metadata": {},
   "outputs": [
    {
     "name": "stdout",
     "output_type": "stream",
     "text": [
      "None\n"
     ]
    },
    {
     "data": {
      "image/png": "[encoded data removed]",
      "text/plain": [
       "<Figure size 432x288 with 1 Axes>"
      ]
     },
     "metadata": {
      "needs_background": "light"
     },
     "output_type": "display_data"
    }
   ],
   "source": [
    "# compare images 1 and 2\n",
    "print(plot_joint_histogram(img1_slice, img2_slice))"
   ]
  },
  {
   "cell_type": "markdown",
   "metadata": {},
   "source": [
    "#### 6. Let's calculate the mutual information of the two images now. \n",
    "We use the third formula stated above to measure the overlaps of the two images. The goal of registration is to maximize mutual information or the overlaps. "
   ]
  },
  {
   "cell_type": "code",
   "execution_count": 11,
   "metadata": {},
   "outputs": [],
   "source": [
    "def mutual_information(img1, img2, bins=20):\n",
    "    \"\"\"\n",
    "    measure the mutual information of the given two images\n",
    "\n",
    "    Parameters\n",
    "    ----------\n",
    "    img1: nii image data read via nibabel\n",
    "\n",
    "    img2: nii image data read via nibabel\n",
    "\n",
    "    bins: optional (default=20)\n",
    "        bin size of the histogram\n",
    "\n",
    "    Returns\n",
    "    -------\n",
    "    calculated mutual information: float\n",
    "\n",
    "    \"\"\"\n",
    "    hist_2d, x_edges, y_edges = np.histogram2d(img1.ravel(), img2.ravel(), bins)\n",
    "    \n",
    "    # convert bins counts to probability values\n",
    "    pxy = hist_2d / float(np.sum(hist_2d))\n",
    "    px = np.sum(pxy, axis=1)  # marginal x over y\n",
    "    py = np.sum(pxy, axis=0)  # marginal y over x\n",
    "    px_py = px[:, None] * py[None, :]  # broadcast to multiply marginals\n",
    "\n",
    "    # now we can do the calculation using the pxy, px_py 2D arrays\n",
    "    nonzeros = pxy > 0  # filer out the zero values\n",
    "    return np.sum(pxy[nonzeros] * np.log(pxy[nonzeros] / px_py[nonzeros]))"
   ]
  },
  {
   "cell_type": "code",
   "execution_count": 12,
   "metadata": {},
   "outputs": [
    {
     "name": "stdout",
     "output_type": "stream",
     "text": [
      "1.1967155090861803\n",
      "0.20578049748917815\n"
     ]
    }
   ],
   "source": [
    "# the MI value of the first should be greater than the second as the first is comparing the image to itself\n",
    "print(mutual_information(img1_slice, img1_slice))\n",
    "print(mutual_information(img1_slice, img2_slice))"
   ]
  },
  {
   "cell_type": "markdown",
   "metadata": {},
   "source": [
    "## Calculating the Grand Average of Mutual Information \n",
    "\n",
    "The codes above are detailed step-by-step processes. We can condense the codes above into one useful function that will allow us to examine the overall average of mutual information of each every scan image to the register image. \n",
    "\n",
    "For example, given a register type ('rtf' for register to first image, or 'rtm' for register to mean), it will calculate each scan to the register image, calculate the MI, and return the grand average MI value. \n",
    "\n",
    "**Note**: The code is currently based on ACCRE system so the paths directing to the images must be changed for flexible use. The path should direct to the folder which holds all the scan images, and since it requires gigabytes of data, I had to implement the code on ACCRE-use only. "
   ]
  },
  {
   "cell_type": "code",
   "execution_count": 1,
   "metadata": {},
   "outputs": [],
   "source": [
    "def get_avg_mi(subjID, type='rtf', saveText=False, verbose=False, nScans=187):\n",
    "    \"\"\"\n",
    "    calculates the correlation coefficient and mutual information of the registered image to the rest of image files, and returns the grand average and trial averages\n",
    "\n",
    "    Parameters\n",
    "    ----------\n",
    "    subjID : str\n",
    "        string of subject data (ie. 'cdcatmr011')\n",
    "    type : str {'rtf', 'rtm'}\n",
    "        registration type that would either register to first scan image or the mean image (default: 'rtf')\n",
    "    saveText : boolean\n",
    "        if True, will save the table report to a separate text file (default: False)\n",
    "    verbose : boolean\n",
    "        if True, will print out which scan file is being worked on (default: False)\n",
    "    nScans : int\n",
    "        integer of how many scans to expect per each run (default: 187)\n",
    "\n",
    "    Returns\n",
    "    -------\n",
    "    cc_all: list\n",
    "        list of all correlation coefficient values\n",
    "    mi_all: list\n",
    "        list of all mutual information values\n",
    "\n",
    "    \"\"\"\n",
    "    saveText = False\n",
    "    subj = str(subjID)\n",
    "    baseDir = '/scratch/polynlab/fmri/cdcatmr/'\n",
    "    funcDir = baseDir + subj + '/images/func'\n",
    "    tag = 'func'\n",
    "    if type == 'rtf':  # register to first\n",
    "        sourceImg = '/func1/func1_00001.nii'  # [rmeanfunc1_00001.nii, meanfunc1_00001.nii]\n",
    "        # tag = 'func'\n",
    "    elif type == 'rtm':  # register to mean\n",
    "        sourceImg = '/func1/meanfunc1_00001.nii'\n",
    "        # tag = 'rfunc'\n",
    "    resDir = '/home/jeonj1/proj/mi'\n",
    "\n",
    "    os.chdir(funcDir)\n",
    "    funcs = os.listdir(funcDir)\n",
    "    funcs.sort()  # funcs = ['func1', 'func2', ... 'func7', 'func8']\n",
    "\n",
    "    meanImg = mi.get_img_slice(funcDir + sourceImg, verbose=verbose)\n",
    "    mi_listVar = []\n",
    "    cc_listVar = []\n",
    "    # loop by each functional run\n",
    "    for i in range(0, len(funcs)):\n",
    "        curr_func = funcs[i]\n",
    "        # let's first create list variables for each functional run\n",
    "        temp = ''\n",
    "        temp = 'mi_' + curr_func + ' = []'\n",
    "        exec(temp)\n",
    "        mi_listVar.append('mi_' + curr_func)\n",
    "        temp = ''\n",
    "        temp = 'cc_' + curr_func + ' = []'\n",
    "        exec(temp)\n",
    "        cc_listVar.append('cc_' + curr_func)\n",
    "\n",
    "        # now let's read in each functional run folder\n",
    "        cfuncDir = funcDir + '/' + curr_func\n",
    "        os.chdir(cfuncDir)\n",
    "        nii_files = os.listdir(cfuncDir)\n",
    "        nii_files = [x for x in nii_files if x.startswith(tag) and x.endswith('nii')]\n",
    "        nii_files.sort()\n",
    "\n",
    "        # sanity check: count scan files\n",
    "        assert len(nii_files) == nScans, \"total scan files found do not match \" + str(nScans) + \" for func run \" + str(i+1)\n",
    "\n",
    "        # loop by each scan within run\n",
    "        for j in range(0, nScans):\n",
    "            if verbose:\n",
    "                print('starting ' + curr_func + ' | scan ' + str(j+1))\n",
    "            curr_nii = mi.get_img_slice(nii_files[j], verbose=verbose)\n",
    "            corr = mi.get_core(meanImg, curr_nii)\n",
    "            mutual_info = mi.mutual_information(meanImg, curr_nii)\n",
    "\n",
    "            # append each list\n",
    "            temp_cc = 'cc_' + curr_func + '.append(corr)'\n",
    "            exec(temp_cc)\n",
    "            temp_mi = 'mi_' + curr_func + '.append(mutual_info)'\n",
    "            exec(temp_mi)\n",
    "\n",
    "    cc_sums = []\n",
    "    mi_sums = []\n",
    "    for r in range(0, len(funcs)):\n",
    "        cc_sums.append(sum(eval(cc_listVar[r])))\n",
    "        mi_sums.append(sum(eval(mi_listVar[r])))\n",
    "\n",
    "    # get all entries in a single list\n",
    "    cc_all = []\n",
    "    mi_all = []\n",
    "    for r in range(0, len(funcs)):\n",
    "        cc_all = cc_all + eval(cc_listVar[r])\n",
    "        mi_all = mi_all + eval(mi_listVar[r])\n",
    "\n",
    "\n",
    "    reports = []\n",
    "    reports.append(['avg cc', sum(cc_sums)/(nScans*len(funcs))])\n",
    "    reports.append(['avg mi', sum(mi_sums)/(nScans*len(funcs))])\n",
    "    reports.append(['cc by runs', '-----'])\n",
    "    for l in cc_listVar:\n",
    "        reports.append([l, sum(eval(l))/nScans])\n",
    "    reports.append(['mi by runs', '-----'])\n",
    "    for l in mi_listVar:\n",
    "        reports.append([l, sum(eval(l))/nScans])\n",
    "\n",
    "    print(tabulate(reports))\n",
    "\n",
    "    if saveText:\n",
    "        with open(resDir + '/' + subj + '_mi_' + os.path.basename(sourceImg) + '.txt', 'w') as f:\n",
    "            for item in reports:\n",
    "                f.write(\"%s\\n\" % item)\n",
    "        print('saved the table report to ' + resDir)\n",
    "\n",
    "    return cc_all, mi_all\n"
   ]
  },
  {
   "cell_type": "markdown",
   "metadata": {},
   "source": [
    "## T-test and Plotting\n",
    "We can use the function `get_avg_mi` above to calculate the grand average. Then we will run a t-test on the two averages and plot the differences for visual reference. The script below is currently somewhat hard coded for simplicity sake. "
   ]
  },
  {
   "cell_type": "code",
   "execution_count": null,
   "metadata": {},
   "outputs": [],
   "source": [
    "nScans = 187\n",
    "nRuns = 8\n",
    "\n",
    "# we use the get_avg_mi function stated above. Specify the subject and register type. \n",
    "cc1, mi1 = get_avg_mi('cdcatmr066', 'rtf', verbose=True)  # register to first scan\n",
    "cc2, mi2 = get_avg_mi('cdcatmr066', 'rtm', verbose=True)  # register to mean\n",
    "\n",
    "assert len(cc1) == len(cc2) == nScans * nRuns\n",
    "assert len(mi1) == len(mi2) == nScans * nRuns\n",
    "\n",
    "cc_t, cc_p = stats.ttest_ind(cc1, cc2)\n",
    "mi_t, mi_p = stats.ttest_ind(mi1, mi2)\n",
    "\n",
    "\n",
    "import numpy as np\n",
    "import seaborn as sns\n",
    "import matplotlib.pyplot as plt\n",
    "# switch matplotlib backend so that it knows it won't print anything.\n",
    "plt.switch_backend('agg')\n",
    "\n",
    "# sns.set(color_codes=True)\n",
    "sns.set_color_codes('pastel')\n",
    "# sns.set_palette(\"tab10\")\n",
    "\n",
    "plt.figure(0)\n",
    "sns.distplot(cc1, label='rtf');\n",
    "sns.distplot(cc2, label='rtm');\n",
    "plt.legend()\n",
    "plt.title('correlation coefficient n=' + str(len(cc1)))\n",
    "plt.savefig('/home/jeonj1/proj/mi/cc_distplot.png')\n",
    "\n",
    "plt.figure(1)\n",
    "sns.distplot(mi1, label='rtf');\n",
    "sns.distplot(mi2, label='rtm');\n",
    "plt.legend()\n",
    "plt.title('mutual info | n=' + str(len(mi1)))\n",
    "plt.savefig('/home/jeonj1/proj/mi/mi_distplot.png')\n",
    "\n",
    "\n",
    "# let's plot box-dist plot combined\n",
    "f, (ax_box1, ax_box2, ax_dist) = plt.subplots(3, sharex=True, gridspec_kw= {\"height_ratios\": (0.3, 0.3, 1)})\n",
    "\n",
    "cc1_mean = np.mean(cc1)\n",
    "cc2_mean = np.mean(cc2)\n",
    "\n",
    "sns.boxplot(cc1, ax=ax_box1, color='b')\n",
    "sns.boxplot(cc2, ax=ax_box2, color='r')\n",
    "ax_box1.axvline(cc1_mean, color='g', linestyle='--')\n",
    "ax_box2.axvline(cc2_mean, color='m', linestyle='--')\n",
    "plt.subplots_adjust(top=0.87)\n",
    "plt.suptitle('correlation coefficient n=' + str(len(cc1)), fontsize = 16)\n",
    "\n",
    "sns.distplot(cc1, ax=ax_dist, label='rtf', color='b', norm_hist=True)\n",
    "sns.distplot(cc2, ax=ax_dist, label='rtm', color='r', norm_hist=True)\n",
    "ax_dist.axvline(cc1_mean, color='g', linestyle='--')\n",
    "ax_dist.axvline(cc2_mean, color='m', linestyle='--')\n",
    "plt.legend()\n",
    "ax_box1.set(xlabel='')\n",
    "ax_box2.set(xlabel='')\n",
    "plt.savefig('/home/jeonj1/proj/mi/cc_box_distplot.png')\n",
    "\n",
    "\n",
    "# let's plot box-dist plot combined\n",
    "f, (ax_box1, ax_box2, ax_dist) = plt.subplots(3, sharex=True, gridspec_kw= {\"height_ratios\": (0.3, 0.3, 1)})\n",
    "\n",
    "mi1_mean = np.mean(mi1)\n",
    "mi2_mean = np.mean(mi2)\n",
    "\n",
    "sns.boxplot(mi1, ax=ax_box1, color='b')\n",
    "sns.boxplot(mi2, ax=ax_box2, color='r')\n",
    "ax_box1.axvline(mi1_mean, color='g', linestyle='--')\n",
    "ax_box2.axvline(mi2_mean, color='m', linestyle='--')\n",
    "plt.subplots_adjust(top=0.87)\n",
    "plt.suptitle('mutual information n=' + str(len(cc1)), fontsize = 16)\n",
    "\n",
    "sns.distplot(mi1, ax=ax_dist, label='rtf', color='b', norm_hist=True)\n",
    "sns.distplot(mi2, ax=ax_dist, label='rtm', color='r', norm_hist=True)\n",
    "ax_dist.axvline(mi1_mean, color='g', linestyle='--')\n",
    "ax_dist.axvline(mi2_mean, color='m', linestyle='--')\n",
    "plt.legend()\n",
    "ax_box1.set(xlabel='')\n",
    "ax_box2.set(xlabel='')\n",
    "plt.savefig('/home/jeonj1/proj/mi/mi_box_distplot.png')\n"
   ]
  },
  {
   "cell_type": "markdown",
   "metadata": {},
   "source": [
    "The following code above will generate two joint plots that combine the box plot and distribution plot for correlation coefficient and mutual information. The first image below shows the correlation coefficient distribution (note that the max is at 1.00). The N here represents the total number of scan images that were compared.\n",
    "\n",
    "![CC distribution plot for rtf vs rtm](cc_box_distplot.png \"CC distribution plot for rtf vs rtm\")\n",
    "\n",
    "The image below is what we're really interested in (!The title should be changed to MI!). You can see the values range from 0.6~1.4. Also, it shows evidence that RTF version has outliers depicted in the box plot, but the outlier is moderated with the RTM method. \n",
    "\n",
    "![MI distribution plot for rtf vs rtm](mi_box_distplot.png \"MI distribution plot for rtf vs rtm\")"
   ]
  },
  {
   "cell_type": "markdown",
   "metadata": {},
   "source": [
    "### References & Useful Links\n",
    "\n",
    "https://people.csail.mit.edu/fisher/publications/papers/tsai99.pdf\n",
    "\n",
    "http://citeseerx.ist.psu.edu/viewdoc/download?doi=10.1.1.87.2130&rep=rep1&type=pdf\n",
    "\n",
    "https://matthew-brett.github.io/teaching/mutual_information.html#t1-t2-scatter"
   ]
  }
 ],
 "metadata": {
  "kernelspec": {
   "display_name": "py3",
   "language": "python",
   "name": "py3"
  },
  "language_info": {
   "codemirror_mode": {
    "name": "ipython",
    "version": 3
   },
   "file_extension": ".py",
   "mimetype": "text/x-python",
   "name": "python",
   "nbconvert_exporter": "python",
   "pygments_lexer": "ipython3",
   "version": "3.6.8"
  }
 },
 "nbformat": 4,
 "nbformat_minor": 2
}
